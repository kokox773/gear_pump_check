{
 "cells": [
  {
   "cell_type": "markdown",
   "metadata": {},
   "source": [
    "設計仕様"
   ]
  },
  {
   "cell_type": "code",
   "execution_count": 12,
   "metadata": {},
   "outputs": [],
   "source": [
    "M = 1200    # 質量[kg]\n",
    "Ds = 0.018  # シリンダ内径[m]\n",
    "h = 1.0     # ロッドストローク長さ[m]\n",
    "t = 2.2     # 持ち上げ時間[s]"
   ]
  },
  {
   "cell_type": "markdown",
   "metadata": {},
   "source": [
    "数学関数の準備(numpyを使う)"
   ]
  },
  {
   "cell_type": "code",
   "execution_count": 13,
   "metadata": {},
   "outputs": [],
   "source": [
    "import numpy as np"
   ]
  },
  {
   "cell_type": "markdown",
   "metadata": {},
   "source": [
    "計算に必要なパラメータ、定数"
   ]
  },
  {
   "cell_type": "code",
   "execution_count": 14,
   "metadata": {},
   "outputs": [],
   "source": [
    "g = 9.81              #重力加速度\n",
    "eta_v = 0.85\n",
    "eta_m = 0.90\n",
    "Ps = -0.02*10**6\n",
    "mu = 0.10\n",
    "alp = 20              #圧力角\n",
    "alp = alp*np.pi/180   #deg ⇒ radに変換"
   ]
  },
  {
   "cell_type": "markdown",
   "metadata": {},
   "source": [
    "基本仕様"
   ]
  },
  {
   "cell_type": "code",
   "execution_count": 15,
   "metadata": {},
   "outputs": [
    {
     "name": "stdout",
     "output_type": "stream",
     "text": [
      "推力 11772.0\n",
      "吐出圧力 46261036.79204425\n",
      "吐出流量 0.00011566772951853327\n"
     ]
    }
   ],
   "source": [
    "F = M*g\n",
    "P = F/(np.pi*(Ds/2)**2)\n",
    "Q = np.pi*(Ds/2)**2*h/t\n",
    "print('推力', F)\n",
    "print('吐出圧力', P)\n",
    "print('吐出流量', Q)"
   ]
  },
  {
   "cell_type": "markdown",
   "metadata": {},
   "source": [
    "動力の計算"
   ]
  },
  {
   "cell_type": "code",
   "execution_count": 11,
   "metadata": {},
   "outputs": [
    {
     "name": "stdout",
     "output_type": "stream",
     "text": [
      "必要動力 7256.633222281451\n"
     ]
    }
   ],
   "source": [
    "L1=P*Q/(eta_m*eta_v)\n",
    "print('必要動力', L1)"
   ]
  },
  {
   "cell_type": "markdown",
   "metadata": {},
   "source": [
    "モータの選定"
   ]
  },
  {
   "cell_type": "code",
   "execution_count": 15,
   "metadata": {},
   "outputs": [],
   "source": [
    "L = 10000"
   ]
  },
  {
   "cell_type": "markdown",
   "metadata": {},
   "source": [
    "口径の選定と流速の計算"
   ]
  },
  {
   "cell_type": "code",
   "execution_count": 18,
   "metadata": {},
   "outputs": [
    {
     "name": "stdout",
     "output_type": "stream",
     "text": [
      "流速 1.2032085561497323\n"
     ]
    }
   ],
   "source": [
    "D = 0.012\n",
    "v = Q/(eta_v*np.pi*(D/2)**2)\n",
    "print('流速', v)"
   ]
  },
  {
   "cell_type": "markdown",
   "metadata": {},
   "source": [
    "歯車の選定（モジュール、歯数、歯幅、回転数）"
   ]
  },
  {
   "cell_type": "code",
   "execution_count": 19,
   "metadata": {},
   "outputs": [],
   "source": [
    "m = 3.0    # モジュール\n",
    "z = 14     # 歯数\n",
    "b = 30     # 歯幅\n",
    "N = 900   # 回転数"
   ]
  },
  {
   "cell_type": "markdown",
   "metadata": {},
   "source": [
    "ピッチ円直径と歯車隙間体積の計算"
   ]
  },
  {
   "cell_type": "code",
   "execution_count": 20,
   "metadata": {},
   "outputs": [
    {
     "name": "stdout",
     "output_type": "stream",
     "text": [
      "ピッチ円直径 42.0\n",
      "歯車隙間体積 1.3359622759390596e-05\n"
     ]
    }
   ],
   "source": [
    "dp = m*z\n",
    "V = 2.25*np.pi*b*(m**2)*z/(2*10**9)\n",
    "print('ピッチ円直径', dp)\n",
    "print('歯車隙間体積', V)"
   ]
  },
  {
   "cell_type": "markdown",
   "metadata": {},
   "source": [
    "かみ合い率の検証"
   ]
  },
  {
   "cell_type": "code",
   "execution_count": 11,
   "metadata": {},
   "outputs": [
    {
     "name": "stdout",
     "output_type": "stream",
     "text": [
      "かみ合い率 1.462732870570941\n"
     ]
    }
   ],
   "source": [
    "e = (np.sqrt((z+2)**2-(z*np.cos(alp))**2)-z*np.sin(alp))/(np.pi*np.cos(alp))\n",
    "print('かみ合い率', e)"
   ]
  },
  {
   "cell_type": "markdown",
   "metadata": {},
   "source": [
    "歯先歯幅比とキャビテーション発生条件の検証"
   ]
  },
  {
   "cell_type": "code",
   "execution_count": 12,
   "metadata": {},
   "outputs": [
    {
     "name": "stdout",
     "output_type": "stream",
     "text": [
      "歯先歯幅比は許容範囲内です\n",
      "キャビテーションは問題なし\n",
      "キャビテーションの不等式の左辺と右辺の計算\n",
      "11.953409555436474  <  14.678700000000001\n"
     ]
    }
   ],
   "source": [
    "if (z+2)*m/b >=0.5 and (z+2)*m/b <=3:\n",
    "    print('歯先歯幅比は許容範囲内です')\n",
    "else:\n",
    "    print('注意！：歯先歯幅比は許容範囲外です！')\n",
    "\n",
    "if np.sqrt(mu)*N*dp*10**(-3) < 4.33*10**(-4)*(Ps+5.39*10**4):\n",
    "    print('キャビテーションは問題なし')\n",
    "else:\n",
    "    print('注意！：キャビテーションに問題あり！')\n",
    "\n",
    "print('キャビテーションの不等式の左辺と右辺の計算')\n",
    "print(np.sqrt(mu)*N*dp*10**(-3), ' < ', 4.33*10**(-4)*(Ps+5.39*10**4))"
   ]
  },
  {
   "cell_type": "markdown",
   "metadata": {},
   "source": [
    "歯車軸の選定"
   ]
  },
  {
   "cell_type": "code",
   "execution_count": 21,
   "metadata": {},
   "outputs": [],
   "source": [
    "ds = 0.030 # 単位は[m]"
   ]
  },
  {
   "cell_type": "markdown",
   "metadata": {},
   "source": [
    "トルク・せん断応力の計算とせん断応力の許容値と歯先円直径との関係の検証"
   ]
  },
  {
   "cell_type": "code",
   "execution_count": 22,
   "metadata": {},
   "outputs": [
    {
     "name": "stdout",
     "output_type": "stream",
     "text": [
      "トルク 106.1032953945969\n",
      "最大せん断応力 20014060.96638771\n",
      "せん断応力は許容範囲内です\n",
      "歯底円直径 34.5\n",
      "歯車軸は歯底円直径より小さい\n"
     ]
    }
   ],
   "source": [
    "omega = 2*np.pi*N/60\n",
    "T = L/omega\n",
    "print('トルク', T)\n",
    "tau_max = 16*T/(np.pi*ds**3)\n",
    "print('最大せん断応力', tau_max)\n",
    "if tau_max < 25*10**6:\n",
    "    print('せん断応力は許容範囲内です')\n",
    "else:\n",
    "    print('注意！:せん断応力が許容値を超えています!')\n",
    "   \n",
    "print('歯底円直径', (z-2.5)*m)\n",
    "if ds*10**3 <(z-2.5)*m:\n",
    "    print('歯車軸は歯底円直径より小さい')\n",
    "else:\n",
    "    print('注意！；歯車軸は歯底円直径より大きいです！')"
   ]
  },
  {
   "cell_type": "code",
   "execution_count": null,
   "metadata": {},
   "outputs": [],
   "source": []
  }
 ],
 "metadata": {
  "kernelspec": {
   "display_name": "Python 3",
   "language": "python",
   "name": "python3"
  },
  "language_info": {
   "codemirror_mode": {
    "name": "ipython",
    "version": 3
   },
   "file_extension": ".py",
   "mimetype": "text/x-python",
   "name": "python",
   "nbconvert_exporter": "python",
   "pygments_lexer": "ipython3",
   "version": "3.7.6"
  }
 },
 "nbformat": 4,
 "nbformat_minor": 4
}
